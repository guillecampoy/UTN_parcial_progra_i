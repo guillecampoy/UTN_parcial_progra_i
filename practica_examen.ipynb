{
 "cells": [
  {
   "cell_type": "markdown",
   "id": "166326ba",
   "metadata": {},
   "source": [
    "## Ejercicio 1: Contar dígitos\n",
    "Dado un número entero positivo, contar cuántos dígitos tiene."
   ]
  },
  {
   "cell_type": "code",
   "execution_count": null,
   "id": "4c438de0",
   "metadata": {},
   "outputs": [],
   "source": [
    "numero = int(input(\"Ingrese un número: \"))\n",
    "contador = 0\n",
    "while numero > 0:\n",
    "    contador += 1\n",
    "    numero = numero // 10\n",
    "print(\"Cantidad de dígitos:\", contador)"
   ]
  },
  {
   "cell_type": "markdown",
   "id": "ccd6dda0",
   "metadata": {},
   "source": [
    "## Ejercicio 2: Verificar si un número es capicúa\n",
    "Un número capicúa es aquel que se lee igual de izquierda a derecha que de derecha a izquierda."
   ]
  },
  {
   "cell_type": "code",
   "execution_count": null,
   "id": "d892ef34",
   "metadata": {},
   "outputs": [],
   "source": [
    "numero = input(\"Ingrese un número: \")\n",
    "if numero == numero[::-1]:\n",
    "    print(\"Es capicúa\")\n",
    "else:\n",
    "    print(\"No es capicúa\")"
   ]
  },
  {
   "cell_type": "markdown",
   "id": "b7fc15e8",
   "metadata": {},
   "source": [
    "## Ejercicio 3: Calcular el factorial de un número\n",
    "Calcular el factorial de un número entero positivo n."
   ]
  },
  {
   "cell_type": "code",
   "execution_count": null,
   "id": "767b8f42",
   "metadata": {},
   "outputs": [],
   "source": [
    "n = int(input(\"Ingrese un número: \"))\n",
    "factorial = 1\n",
    "for i in range(1, n + 1):\n",
    "    factorial *= i\n",
    "print(\"El factorial es:\", factorial)"
   ]
  }
 ],
 "metadata": {},
 "nbformat": 4,
 "nbformat_minor": 5
}