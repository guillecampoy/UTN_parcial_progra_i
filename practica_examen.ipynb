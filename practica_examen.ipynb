{
 "cells": [
  {
   "cell_type": "markdown",
   "id": "166326ba",
   "metadata": {},
   "source": [
    "## Ejercicio 1\n",
    "Completa el siguiente codigo para generar un bucle infinito "
   ]
  },
  {
   "cell_type": "code",
   "execution_count": null,
   "id": "4c438de0",
   "metadata": {},
   "outputs": [],
   "source": [
    "i=1\n",
    "while i<=3:\n",
    "    print(\"iteracion exterior:\",i, end=\"\")\n",
    "    j=1\n",
    "    while True:\n",
    "        print(\"iteracion interior:\",j, end=\"\")\n",
    "        j+=1\n",
    "        if j<2:\n",
    "            break\n",
    "\n",
    "    i+=1"
   ]
  },
  {
   "cell_type": "markdown",
   "id": "ccd6dda0",
   "metadata": {},
   "source": [
    "## Ejercicio 2\n",
    "Completa el siguiente codigo para que al ingresar el numero 5, se obtenga como salida el numero 13"
   ]
  },
  {
   "cell_type": "code",
   "execution_count": 4,
   "id": "d892ef34",
   "metadata": {},
   "outputs": [
    {
     "name": "stdout",
     "output_type": "stream",
     "text": [
      "El resultado es: 13\n"
     ]
    }
   ],
   "source": [
    "def funcion_recursiva(vector, numero):\n",
    "    contador = 1\n",
    "    if numero == 1:\n",
    "        contador = vector[3] + contador \n",
    "    else:\n",
    "        contador = funcion_recursiva(vector, numero - 2)\n",
    "    return contador\n",
    "\n",
    "numero = 5 #int(input(\"Ingresar valor: \"))\n",
    "\n",
    "if numero <4:\n",
    "    print(\"El numero ingresado es menor que 4\")\n",
    "else:\n",
    "    vector = [0] * numero\n",
    "    for i in range(2, numero):\n",
    "        vector[i] = i * 4\n",
    "    resultado = funcion_recursiva(vector, numero)\n",
    "    print(\"El resultado es:\", resultado)"
   ]
  },
  {
   "cell_type": "markdown",
   "id": "b7fc15e8",
   "metadata": {},
   "source": [
    "## Ejercicio 3\n",
    "completa el codigo para que la salida sea 123246"
   ]
  },
  {
   "cell_type": "code",
   "execution_count": 5,
   "id": "767b8f42",
   "metadata": {},
   "outputs": [
    {
     "name": "stdout",
     "output_type": "stream",
     "text": [
      "123246"
     ]
    }
   ],
   "source": [
    "for t in range(1, 3):\n",
    "    for n in range(1,4):\n",
    "        print(t * n, end='')"
   ]
  },
  {
   "cell_type": "markdown",
   "id": "4f05af5e",
   "metadata": {},
   "source": [
    "## Ejercicio 4\n",
    "Completa el código para que la salida sea: ruel"
   ]
  },
  {
   "cell_type": "code",
   "execution_count": 6,
   "id": "4202f7a9",
   "metadata": {},
   "outputs": [
    {
     "name": "stdout",
     "output_type": "stream",
     "text": [
      "ruel\n"
     ]
    }
   ],
   "source": [
    "def funcion_c(frase):\n",
    "    resultado = frase\n",
    "    longitud = len(frase)\n",
    "    for i in range(0, longitud, 5):\n",
    "        resultado = frase[i:longitud]\n",
    "    return resultado\n",
    "\n",
    "frase = \"HolaMundoCruel\"\n",
    "print(funcion_c(frase))"
   ]
  },
  {
   "cell_type": "markdown",
   "id": "9bf30ff0",
   "metadata": {},
   "source": [
    "## Ejercicio 5\n",
    "Completa el siguiente codigo para que imprima por pantalla 12357"
   ]
  },
  {
   "cell_type": "code",
   "execution_count": 7,
   "id": "3c734a0e",
   "metadata": {},
   "outputs": [
    {
     "name": "stdout",
     "output_type": "stream",
     "text": [
      "1 2 3 5 7 "
     ]
    }
   ],
   "source": [
    "def funcion_b(cantidad):\n",
    "    if cantidad <= 2:\n",
    "        return True\n",
    "    else:\n",
    "        return False\n",
    "\n",
    "def funcion_a(numero):\n",
    "    resultado = False\n",
    "    divisores = 0\n",
    "    for candidato in range(1, numero + 1):\n",
    "        if numero % candidato == 0:\n",
    "            divisores += 1\n",
    "    resultado = funcion_b(divisores)\n",
    "    return resultado\n",
    "\n",
    "for numero in range(1, 11):\n",
    "    if funcion_a(numero):\n",
    "        print(numero, end=\" \")"
   ]
  },
  {
   "cell_type": "markdown",
   "id": "a9e8cd5f",
   "metadata": {},
   "source": [
    "## Ejercicio 6\n",
    "completa el codigo para que al ingresar 24 se imprima: 2024 es un año bisiesto\n"
   ]
  },
  {
   "cell_type": "code",
   "execution_count": 1,
   "id": "c3e1e03c",
   "metadata": {},
   "outputs": [
    {
     "name": "stdout",
     "output_type": "stream",
     "text": [
      "2024 es un año bisiesto\n"
     ]
    }
   ],
   "source": [
    "def trasnformar(valor):\n",
    "    valor = valor * 7\n",
    "    valor = valor * 11\n",
    "    valor = valor + 176\n",
    "    return valor\n",
    "\n",
    "def es_bisiesto(anio):\n",
    "    if (anio % 4 == 0 and anio % 100 != 0) or (anio % 400 == 0):\n",
    "        return f\"{anio} es un año bisiesto\"\n",
    "    else:\n",
    "        return f\"{anio} no es un año bisiesto\"\n",
    "    \n",
    "entrada = 24 #int(input(\"Ingrese un año: \"))\n",
    "anio_transformado = trasnformar(entrada)\n",
    "print(es_bisiesto(anio_transformado))"
   ]
  },
  {
   "cell_type": "markdown",
   "id": "2e6a62d2",
   "metadata": {},
   "source": [
    "## Ejercicio 7\n",
    "Completa el siguiente codigo para que imprima por pantalla: 6, 108, 648"
   ]
  },
  {
   "cell_type": "code",
   "execution_count": 2,
   "id": "69d88b1f",
   "metadata": {},
   "outputs": [
    {
     "name": "stdout",
     "output_type": "stream",
     "text": [
      "6 , 108 , 648\n"
     ]
    }
   ],
   "source": [
    "def funcion_a(numero, multiplicador):\n",
    "    resultado = 20\n",
    "    if numero % 2 == 0:\n",
    "        resultado = numero * multiplicador\n",
    "    else:\n",
    "        resultado = multiplicador * numero\n",
    "    return resultado\n",
    "\n",
    "def operar_listas(lista_a, lista_b, lista_c):\n",
    "    lista_a[0] = funcion_a(lista_a[0], 2)  # 3 * 2 = 6\n",
    "    lista_b[0] = funcion_a(lista_a[0], funcion_a(lista_a[0], 3))  # 6 * (6 * 3) = 6 * 18 = 108\n",
    "    lista_c[0] = funcion_a(lista_a[0], lista_b[0])  # 6 * 108 = 648\n",
    "\n",
    "a = [3]\n",
    "b = [7]\n",
    "c = [4]\n",
    "\n",
    "operar_listas(a, b, c)\n",
    "\n",
    "print(a[0], \",\", b[0], \",\", c[0])"
   ]
  },
  {
   "cell_type": "markdown",
   "id": "545854f5",
   "metadata": {},
   "source": [
    "## Ejercicio 8\n",
    "Completa el siguiente codigo para que la salida por consola sea 4"
   ]
  },
  {
   "cell_type": "code",
   "execution_count": 3,
   "id": "7a49065e",
   "metadata": {},
   "outputs": [
    {
     "name": "stdout",
     "output_type": "stream",
     "text": [
      "4\n"
     ]
    }
   ],
   "source": [
    "def funcion_m(valores, tamaño):\n",
    "    max = valores[0]\n",
    "    \n",
    "    for indice in range(1, tamaño -1):\n",
    "        if valores[indice] <= max:\n",
    "            max = valores[indice]\n",
    "    \n",
    "    return max\n",
    "\n",
    "tamaño = 3\n",
    "valores = [0] * tamaño\n",
    "valores[0] = 4\n",
    "valores[1] = 6\n",
    "valores[2] = 1\n",
    "\n",
    "print(funcion_m(valores, tamaño))"
   ]
  },
  {
   "cell_type": "markdown",
   "id": "7c2fc4f3",
   "metadata": {},
   "source": [
    "## Ejercicio 9\n",
    "Completa el codigo para que, al ingresar 1 y luego 3 el programa siga pidiendo de manera infinita el ingreso del segundo numero"
   ]
  },
  {
   "cell_type": "code",
   "execution_count": null,
   "id": "de7f43bd",
   "metadata": {},
   "outputs": [],
   "source": [
    "contador = 1\n",
    "total = 0\n",
    "bandera = True\n",
    "\n",
    "num1 = 1 #int(input(\"Ingrese un valor N°1: \"))\n",
    "\n",
    "while bandera != False:\n",
    "    num2 = 3 #int(input(\"Ingrese un valor N°2: \"))\n",
    "    total = total + num2\n",
    "    contador = contador + 1\n",
    "\n",
    "    while contador == num1:\n",
    "        print(total, end=\"\")\n",
    "        bandera = False\n",
    "\n",
    "    if contador != num1:\n",
    "        bandera = True"
   ]
  },
  {
   "cell_type": "markdown",
   "id": "5b175bc3",
   "metadata": {},
   "source": [
    "## Ejercicio 10\n",
    "Completa el código para que la salida sea: 6"
   ]
  },
  {
   "cell_type": "code",
   "execution_count": 5,
   "id": "5692cf63",
   "metadata": {},
   "outputs": [
    {
     "name": "stdout",
     "output_type": "stream",
     "text": [
      "6\n"
     ]
    }
   ],
   "source": [
    "def funcion_s(lista, largo):\n",
    "    if largo == 0:\n",
    "        return 0\n",
    "    else:\n",
    "        return lista[largo - 1] + funcion_s(lista, largo - 1)\n",
    "\n",
    "vector = [0] * 100\n",
    "vector[0] = 1\n",
    "vector[1] = 1\n",
    "vector[2] = 1\n",
    "vector[3] = 2\n",
    "vector[4] = 1\n",
    "longitud = 5\n",
    "\n",
    "print(funcion_s(vector, longitud))"
   ]
  },
  {
   "cell_type": "markdown",
   "id": "b932e94d",
   "metadata": {},
   "source": [
    "## Ejercicio 11\n",
    "Completa el codigo para que se muestren los mensajes A y D al ingresar 5, 0 y 25 respectivamente.\n"
   ]
  },
  {
   "cell_type": "code",
   "execution_count": 6,
   "id": "57ad0b5d",
   "metadata": {},
   "outputs": [
    {
     "name": "stdout",
     "output_type": "stream",
     "text": [
      "A\n",
      "D\n"
     ]
    }
   ],
   "source": [
    "def ejercicio():\n",
    "    dia = 5 #int(input(\"Introduce el valor N°1 (día): \"))\n",
    "    mes = 0 #int(input(\"Introduce el valor N°2 (mes): \"))\n",
    "    anio = 25 #int(input(\"Introduce el valor N°3 (año): \"))\n",
    "\n",
    "    dd = 100\n",
    "\n",
    "    if mes in [1, 3, 5, 7, 8, 10, 12]:\n",
    "        ultimo_dia_mes = 31\n",
    "    elif mes in [4, 6, 9, 11]:\n",
    "        ultimo_dia_mes = 30\n",
    "    elif mes == 2:\n",
    "        if (anio % 4 == 0 and anio % 100 != 0) or (anio % 400 == 0):\n",
    "            ultimo_dia_mes = 29\n",
    "        else:\n",
    "            ultimo_dia_mes = 28\n",
    "    else:\n",
    "        print(\"A\")\n",
    "        ultimo_dia_mes = 31\n",
    "\n",
    "    if not (dia > 0 or dia < ultimo_dia_mes):\n",
    "        print(\"B\")\n",
    "    else:\n",
    "        if mes < 0 or mes > 12:\n",
    "            print(\"C\")\n",
    "        else:\n",
    "            print(\"D\")\n",
    "\n",
    "ejercicio()"
   ]
  },
  {
   "cell_type": "markdown",
   "id": "877516cb",
   "metadata": {},
   "source": [
    "## Ejercicio 12\n",
    "Completa el codigo para que imprima por pantalla: i = 12 / j = 13 y i=12 / j = 3\n"
   ]
  },
  {
   "cell_type": "code",
   "execution_count": 7,
   "id": "988c6473",
   "metadata": {},
   "outputs": [
    {
     "name": "stdout",
     "output_type": "stream",
     "text": [
      "i = 12 / j = 13\n",
      "i = 12 / j = 3\n"
     ]
    }
   ],
   "source": [
    "def funcion_s(i_ref, j):\n",
    "    i_ref[0] = i_ref[0] + 10\n",
    "    j = j + 10\n",
    "    print(f\"i = {i_ref[0]} / j = {j}\", end=\"\")\n",
    "\n",
    "var1 = [2]\n",
    "var2 = 3\n",
    "\n",
    "funcion_s(var1, var2)\n",
    "print(f\"\\ni = {var1[0]} / j = {var2}\")"
   ]
  }
 ],
 "metadata": {
  "kernelspec": {
   "display_name": "Python 3",
   "language": "python",
   "name": "python3"
  },
  "language_info": {
   "codemirror_mode": {
    "name": "ipython",
    "version": 3
   },
   "file_extension": ".py",
   "mimetype": "text/x-python",
   "name": "python",
   "nbconvert_exporter": "python",
   "pygments_lexer": "ipython3",
   "version": "3.11.13"
  }
 },
 "nbformat": 4,
 "nbformat_minor": 5
}
